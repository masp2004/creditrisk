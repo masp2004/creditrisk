{
 "cells": [
  {
   "cell_type": "code",
   "id": "initial_id",
   "metadata": {
    "collapsed": true,
    "ExecuteTime": {
     "end_time": "2024-10-16T10:32:42.991146Z",
     "start_time": "2024-10-16T10:32:36.192659Z"
    }
   },
   "source": "import pandas as pd",
   "outputs": [],
   "execution_count": 1
  },
  {
   "metadata": {
    "ExecuteTime": {
     "end_time": "2024-10-16T10:34:52.291038Z",
     "start_time": "2024-10-16T10:34:52.280596Z"
    }
   },
   "cell_type": "code",
   "source": "df = pd.read_csv('loan_sample.csv')",
   "id": "d553da3f7d748a4a",
   "outputs": [],
   "execution_count": 6
  },
  {
   "metadata": {
    "ExecuteTime": {
     "end_time": "2024-10-16T10:34:48.353532Z",
     "start_time": "2024-10-16T10:34:48.348719Z"
    }
   },
   "cell_type": "code",
   "source": [
    "# take a look at column loan status\n",
    "df[\"loan_status\"].value_counts()"
   ],
   "id": "ad001f9c2baae732",
   "outputs": [
    {
     "data": {
      "text/plain": [
       "loan_status\n",
       "Current               686\n",
       "Fully Paid            212\n",
       "Charged Off            64\n",
       "Late (31-120 days)     14\n",
       "Issued                  9\n",
       "In Grace Period         8\n",
       "Late (16-30 days)       6\n",
       "Default                 1\n",
       "Name: count, dtype: int64"
      ]
     },
     "execution_count": 5,
     "metadata": {},
     "output_type": "execute_result"
    }
   ],
   "execution_count": 5
  },
  {
   "metadata": {
    "ExecuteTime": {
     "end_time": "2024-10-16T10:35:14.541064Z",
     "start_time": "2024-10-16T10:35:14.538146Z"
    }
   },
   "cell_type": "code",
   "source": [
    "# take a look at column emp_length\n",
    "df[\"emp_length\"].value_counts()\n",
    "print(df[\"emp_length\"].unique())\n",
    "print(\"==> Catagoric/ordinal\")"
   ],
   "id": "4f5d9d8fc70c1e19",
   "outputs": [
    {
     "name": "stdout",
     "output_type": "stream",
     "text": [
      "['10+ years' '3 years' '2 years' '1 year' '8 years' '< 1 year' '6 years'\n",
      " '4 years' nan '7 years' '5 years' '9 years']\n",
      "==> Catagoric/ordinal\n"
     ]
    }
   ],
   "execution_count": 7
  },
  {
   "metadata": {},
   "cell_type": "code",
   "outputs": [],
   "execution_count": null,
   "source": [
    "# take a look at column home_ownership\n",
    "df[\"home_ownership\"].value_counts()\n",
    "print(df[\"home_ownership\"].unique())\n",
    "print(\"==> Catagoric/nominal\")"
   ],
   "id": "365b3306151bacd8"
  },
  {
   "metadata": {
    "ExecuteTime": {
     "end_time": "2024-10-16T10:36:42.338625Z",
     "start_time": "2024-10-16T10:36:42.335783Z"
    }
   },
   "cell_type": "code",
   "source": [
    "# take a look at int_rate\n",
    "print(\"int_rate\")\n",
    "print(df[\"int_rate\"].unique()[:10])\n",
    "print(\"==> Numeric/ratio\")"
   ],
   "id": "ad40cc6f885fad4f",
   "outputs": [
    {
     "name": "stdout",
     "output_type": "stream",
     "text": [
      "int_rate\n",
      "[15.61  9.67 12.69 18.2  18.55 13.99 11.53 11.67 15.31 16.29]\n",
      "==> Numeric/ratio\n"
     ]
    }
   ],
   "execution_count": 8
  },
  {
   "metadata": {
    "ExecuteTime": {
     "end_time": "2024-10-16T10:38:30.923857Z",
     "start_time": "2024-10-16T10:38:30.921169Z"
    }
   },
   "cell_type": "code",
   "source": [
    "# take a look at issue_d\n",
    "print(\"issue_d\")\n",
    "print(df[\"issue_d\"].unique()[:10])\n",
    "print(\"==> Date, can be converted to numeric/cardinal\")"
   ],
   "id": "42d3cdc7005e8ccb",
   "outputs": [
    {
     "name": "stdout",
     "output_type": "stream",
     "text": [
      "issue_d\n",
      "['Sep-2015' 'Feb-2014' 'Jun-2015' 'Nov-2015' 'Aug-2015' 'Mar-2015'\n",
      " 'Sep-2014' 'Apr-2013' 'Oct-2015' 'Mar-2013']\n",
      "==> Date, can be converted to numeric/cardinal\n"
     ]
    }
   ],
   "execution_count": 9
  }
 ],
 "metadata": {
  "kernelspec": {
   "display_name": "Python 3",
   "language": "python",
   "name": "python3"
  },
  "language_info": {
   "codemirror_mode": {
    "name": "ipython",
    "version": 2
   },
   "file_extension": ".py",
   "mimetype": "text/x-python",
   "name": "python",
   "nbconvert_exporter": "python",
   "pygments_lexer": "ipython2",
   "version": "2.7.6"
  }
 },
 "nbformat": 4,
 "nbformat_minor": 5
}
